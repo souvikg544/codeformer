{
 "cells": [
  {
   "cell_type": "code",
   "execution_count": 9,
   "id": "64a14ae3-ceb0-4a1c-8e50-a63ad19c7185",
   "metadata": {},
   "outputs": [],
   "source": [
    "import cv2\n",
    "import matplotlib.pyplot as plt\n",
    "import numpy as np\n",
    "import os\n",
    "import shutil\n",
    "from tqdm import tqdm"
   ]
  },
  {
   "cell_type": "code",
   "execution_count": 5,
   "id": "44db52af-df83-4805-9ba2-9434f269f089",
   "metadata": {},
   "outputs": [],
   "source": [
    "image_path='/scratch/souvik/corrected_avspeech50/ISdw4_QAmRU_78/000003.png'"
   ]
  },
  {
   "cell_type": "code",
   "execution_count": 6,
   "id": "479253ff-e994-4af9-ac79-cb3351086af4",
   "metadata": {},
   "outputs": [],
   "source": [
    "im=cv2.imread(image_path)"
   ]
  },
  {
   "cell_type": "code",
   "execution_count": 7,
   "id": "8c5f6705-4783-43c5-a59f-773fffabe846",
   "metadata": {},
   "outputs": [
    {
     "data": {
      "text/plain": [
       "(280, 226, 3)"
      ]
     },
     "execution_count": 7,
     "metadata": {},
     "output_type": "execute_result"
    }
   ],
   "source": [
    "im.shape"
   ]
  },
  {
   "cell_type": "code",
   "execution_count": 6,
   "id": "a2845fa4-ec50-49ba-87f5-d4c93d982871",
   "metadata": {},
   "outputs": [],
   "source": [
    "root_path='/scratch/souvik/corrected_avspeech50'"
   ]
  },
  {
   "cell_type": "code",
   "execution_count": 7,
   "id": "d7d8b29b-6f11-4446-9674-77c0d48e2e2d",
   "metadata": {},
   "outputs": [],
   "source": [
    "files=os.listdir(root_path)"
   ]
  },
  {
   "cell_type": "code",
   "execution_count": 8,
   "id": "7be09891-74cf-43bd-bf66-17b5d7bcd49b",
   "metadata": {},
   "outputs": [
    {
     "data": {
      "text/plain": [
       "['RKXwv9EIOxY_90',\n",
       " 'H5TdMprN0HE_152',\n",
       " '19kTJWzWo00_24',\n",
       " '0Hh3AiT8pP0_189',\n",
       " 'Zd8-WgtcixM_90',\n",
       " '2DwLDVj63RE_182',\n",
       " 'a7R1NQGSZwA_183',\n",
       " 'UvI-AMAtrvE_99',\n",
       " 'S32wrRRcUJk_288',\n",
       " 'ikq6jWu4uRI_81']"
      ]
     },
     "execution_count": 8,
     "metadata": {},
     "output_type": "execute_result"
    }
   ],
   "source": [
    "files[30:40]"
   ]
  },
  {
   "cell_type": "code",
   "execution_count": 11,
   "id": "bacf1e20-e9a5-4cf9-a41e-a1a37927cfb5",
   "metadata": {},
   "outputs": [
    {
     "name": "stderr",
     "output_type": "stream",
     "text": [
      "100%|███████████████████████████████████████████████████████████████████████████████████████████████████████████████████████████████████████████████████████████████████████| 10/10 [00:34<00:00,  3.41s/it]\n"
     ]
    }
   ],
   "source": [
    "for file in tqdm(files[30:40]):\n",
    "    source_path=os.path.join(root_path,file)\n",
    "    destination_path=os.path.join('/ssd_scratch/cvit/souvik/corrected_avspeech50',file)\n",
    "    shutil.copytree(source_path, destination_path)"
   ]
  },
  {
   "cell_type": "code",
   "execution_count": null,
   "id": "ad30d788-aca3-4e58-8acf-fee115d50420",
   "metadata": {},
   "outputs": [],
   "source": []
  }
 ],
 "metadata": {
  "kernelspec": {
   "display_name": "va",
   "language": "python",
   "name": "va"
  },
  "language_info": {
   "codemirror_mode": {
    "name": "ipython",
    "version": 3
   },
   "file_extension": ".py",
   "mimetype": "text/x-python",
   "name": "python",
   "nbconvert_exporter": "python",
   "pygments_lexer": "ipython3",
   "version": "3.10.12"
  }
 },
 "nbformat": 4,
 "nbformat_minor": 5
}
